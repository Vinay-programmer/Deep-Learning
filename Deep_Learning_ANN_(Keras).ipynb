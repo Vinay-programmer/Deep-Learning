{
  "nbformat": 4,
  "nbformat_minor": 0,
  "metadata": {
    "colab": {
      "name": "Deep Learning ANN (Keras).ipynb",
      "provenance": [],
      "collapsed_sections": []
    },
    "kernelspec": {
      "name": "python3",
      "display_name": "Python 3"
    },
    "language_info": {
      "name": "python"
    }
  },
  "cells": [
    {
      "cell_type": "code",
      "metadata": {
        "id": "1owVn8RhsZNW"
      },
      "source": [
        "#ANN - Artificial Neural Network"
      ],
      "execution_count": null,
      "outputs": []
    },
    {
      "cell_type": "code",
      "metadata": {
        "id": "-d6bxzvcsw9E"
      },
      "source": [
        "#Framework for Deep learning\n",
        "#old - Caffe, Theano, Tefla, Torch\n",
        "#New -Tensorflow ( Google), Pytorch(Facebook), CNTK-cognective tool kit(Micorsoft)\n",
        "\n",
        "#Wrapper - (API)\n",
        "# Keras\n",
        "\n",
        "#Now keras become official wrapper for only Tensorflow"
      ],
      "execution_count": null,
      "outputs": []
    },
    {
      "cell_type": "code",
      "metadata": {
        "id": "kiT_obklfloK"
      },
      "source": [
        "#Those who are on local system (jyupter notebook) might need to install the tensorflow ( one time activity)\n",
        "# ! pip install tensorflow==2.0.0\n",
        "# colab people dont need to install it as it is pre-installed "
      ],
      "execution_count": null,
      "outputs": []
    },
    {
      "cell_type": "code",
      "metadata": {
        "id": "GFRSIvOWsxI_"
      },
      "source": [
        "import tensorflow as tf"
      ],
      "execution_count": null,
      "outputs": []
    },
    {
      "cell_type": "code",
      "metadata": {
        "colab": {
          "base_uri": "https://localhost:8080/",
          "height": 35
        },
        "id": "xvNxwDRyfkzp",
        "outputId": "630b1a85-051b-4729-93a4-87bda8f9c611"
      },
      "source": [
        "tf.__version__"
      ],
      "execution_count": null,
      "outputs": [
        {
          "output_type": "execute_result",
          "data": {
            "application/vnd.google.colaboratory.intrinsic+json": {
              "type": "string"
            },
            "text/plain": [
              "'2.4.1'"
            ]
          },
          "metadata": {
            "tags": []
          },
          "execution_count": 2
        }
      ]
    },
    {
      "cell_type": "code",
      "metadata": {
        "colab": {
          "base_uri": "https://localhost:8080/",
          "height": 35
        },
        "id": "TJSSiFxwsxOQ",
        "outputId": "39bdfa5e-8fda-4736-ac75-dd9bcff8c71a"
      },
      "source": [
        "tf.keras.__version__"
      ],
      "execution_count": null,
      "outputs": [
        {
          "output_type": "execute_result",
          "data": {
            "application/vnd.google.colaboratory.intrinsic+json": {
              "type": "string"
            },
            "text/plain": [
              "'2.4.0'"
            ]
          },
          "metadata": {
            "tags": []
          },
          "execution_count": 5
        }
      ]
    },
    {
      "cell_type": "code",
      "metadata": {
        "id": "k7VbDuJRsxRs",
        "colab": {
          "base_uri": "https://localhost:8080/"
        },
        "outputId": "95edc271-90db-4b68-e050-077c2da72c8f"
      },
      "source": [
        "(x_train, y_train),(x_test,y_test) = tf.keras.datasets.mnist.load_data()\n",
        "# X- images\n",
        "# y- Labels\n"
      ],
      "execution_count": null,
      "outputs": [
        {
          "output_type": "stream",
          "text": [
            "Downloading data from https://storage.googleapis.com/tensorflow/tf-keras-datasets/mnist.npz\n",
            "11493376/11490434 [==============================] - 0s 0us/step\n"
          ],
          "name": "stdout"
        }
      ]
    },
    {
      "cell_type": "code",
      "metadata": {
        "colab": {
          "base_uri": "https://localhost:8080/"
        },
        "id": "h6E7KW73sxVT",
        "outputId": "69a790b5-5de5-4796-cacd-27ea68e7592a"
      },
      "source": [
        "x_train.shape # 60k are the images, and 28 is the heigth and width, Channel is not provided so default is 1 so that means its gray scale"
      ],
      "execution_count": null,
      "outputs": [
        {
          "output_type": "execute_result",
          "data": {
            "text/plain": [
              "(60000, 28, 28)"
            ]
          },
          "metadata": {
            "tags": []
          },
          "execution_count": 7
        }
      ]
    },
    {
      "cell_type": "code",
      "metadata": {
        "colab": {
          "base_uri": "https://localhost:8080/"
        },
        "id": "kOYSIyc-sxYL",
        "outputId": "beba5bda-ec29-44fe-a3b0-932a719e4d07"
      },
      "source": [
        "y_train.shape"
      ],
      "execution_count": null,
      "outputs": [
        {
          "output_type": "execute_result",
          "data": {
            "text/plain": [
              "(60000,)"
            ]
          },
          "metadata": {
            "tags": []
          },
          "execution_count": 8
        }
      ]
    },
    {
      "cell_type": "code",
      "metadata": {
        "id": "n2XhwBbLsxbB"
      },
      "source": [
        "import matplotlib.pyplot as plt\n"
      ],
      "execution_count": null,
      "outputs": []
    },
    {
      "cell_type": "code",
      "metadata": {
        "colab": {
          "base_uri": "https://localhost:8080/",
          "height": 282
        },
        "id": "LoHOZDztiRQf",
        "outputId": "11a68833-bcd3-43f0-f57a-2d071e730943"
      },
      "source": [
        "plt.imshow(x_train[456],cmap='gray')"
      ],
      "execution_count": null,
      "outputs": [
        {
          "output_type": "execute_result",
          "data": {
            "text/plain": [
              "<matplotlib.image.AxesImage at 0x7f40fc85bdd0>"
            ]
          },
          "metadata": {
            "tags": []
          },
          "execution_count": 10
        },
        {
          "output_type": "display_data",
          "data": {
            "image/png": "[encoded data removed]",
            "text/plain": [
              "<Figure size 432x288 with 1 Axes>"
            ]
          },
          "metadata": {
            "tags": [],
            "needs_background": "light"
          }
        }
      ]
    },
    {
      "cell_type": "code",
      "metadata": {
        "id": "Lc05XSx2iRhP"
      },
      "source": [
        "# 1. Collect the data (images and labels both)\n",
        "# 2. preprocess the data (images and labels)"
      ],
      "execution_count": null,
      "outputs": []
    },
    {
      "cell_type": "code",
      "metadata": {
        "id": "hAAFka2GnJgq"
      },
      "source": [
        "# preprocesing of images\n",
        "# 1. Normalization of scaling (max scaler)\n",
        "# EX- [0,5,10,15]/15 = [0,0.3,0.5,1]"
      ],
      "execution_count": null,
      "outputs": []
    },
    {
      "cell_type": "code",
      "metadata": {
        "colab": {
          "base_uri": "https://localhost:8080/",
          "height": 218
        },
        "id": "GGzQV7AiiRkS",
        "outputId": "7373fbf5-5b4b-4eb7-d088-888d53782b26"
      },
      "source": [
        "plt.subplot(121)\n",
        "plt.imshow(x_train[1000],cmap='gray')\n",
        "plt.subplot(122)\n",
        "plt.imshow(x_train[1000]/255.0,cmap='gray') \n"
      ],
      "execution_count": null,
      "outputs": [
        {
          "output_type": "execute_result",
          "data": {
            "text/plain": [
              "<matplotlib.image.AxesImage at 0x7f40fc309910>"
            ]
          },
          "metadata": {
            "tags": []
          },
          "execution_count": 13
        },
        {
          "output_type": "display_data",
          "data": {
            "image/png": "[encoded data removed]",
            "text/plain": [
              "<Figure size 432x288 with 2 Axes>"
            ]
          },
          "metadata": {
            "tags": [],
            "needs_background": "light"
          }
        }
      ]
    },
    {
      "cell_type": "code",
      "metadata": {
        "id": "pz1lNZariRna"
      },
      "source": [
        "#2.2 Normalize the images (divide them 255)\n",
        "X_train = x_train / 255"
      ],
      "execution_count": null,
      "outputs": []
    },
    {
      "cell_type": "code",
      "metadata": {
        "colab": {
          "base_uri": "https://localhost:8080/"
        },
        "id": "AVd8IXGnmqzm",
        "outputId": "84c10628-c66e-4e08-cb94-c1176850858d"
      },
      "source": [
        "print(X_train[1000])"
      ],
      "execution_count": null,
      "outputs": [
        {
          "output_type": "stream",
          "text": [
            "[[0.         0.         0.         0.         0.         0.\n",
            "  0.         0.         0.         0.         0.         0.\n",
            "  0.         0.         0.         0.         0.         0.\n",
            "  0.         0.         0.         0.         0.         0.\n",
            "  0.         0.         0.         0.        ]\n",
            " [0.         0.         0.         0.         0.         0.\n",
            "  0.         0.         0.         0.         0.         0.\n",
            "  0.         0.         0.         0.         0.         0.\n",
            "  0.         0.         0.         0.         0.         0.\n",
            "  0.         0.         0.         0.        ]\n",
            " [0.         0.         0.         0.         0.         0.\n",
            "  0.         0.         0.         0.         0.         0.\n",
            "  0.         0.         0.         0.         0.         0.\n",
            "  0.         0.         0.         0.         0.         0.\n",
            "  0.         0.         0.         0.        ]\n",
            " [0.         0.         0.         0.         0.         0.\n",
            "  0.         0.         0.         0.         0.         0.\n",
            "  0.         0.         0.         0.         0.         0.\n",
            "  0.         0.         0.         0.         0.         0.\n",
            "  0.         0.         0.         0.        ]\n",
            " [0.         0.         0.         0.         0.         0.\n",
            "  0.         0.         0.         0.         0.         0.\n",
            "  0.         0.         0.         0.         0.         0.\n",
            "  0.         0.         0.         0.         0.         0.\n",
            "  0.         0.         0.         0.        ]\n",
            " [0.         0.         0.         0.         0.         0.\n",
            "  0.         0.         0.         0.         0.         0.\n",
            "  0.         0.         0.14117647 0.57254902 0.99607843 1.\n",
            "  0.98431373 0.37254902 0.02352941 0.         0.         0.\n",
            "  0.         0.         0.         0.        ]\n",
            " [0.         0.         0.         0.         0.         0.\n",
            "  0.         0.         0.         0.         0.         0.\n",
            "  0.01176471 0.38039216 0.91764706 0.99607843 0.99607843 0.90980392\n",
            "  0.99607843 0.99607843 0.1372549  0.         0.         0.\n",
            "  0.         0.         0.         0.        ]\n",
            " [0.         0.         0.         0.         0.         0.\n",
            "  0.         0.         0.         0.         0.         0.34901961\n",
            "  0.54901961 0.99607843 0.99607843 0.68235294 0.2627451  0.12941176\n",
            "  0.78431373 0.99607843 0.74509804 0.         0.         0.\n",
            "  0.         0.         0.         0.        ]\n",
            " [0.         0.         0.         0.         0.         0.\n",
            "  0.         0.         0.         0.         0.42352941 0.99215686\n",
            "  0.99607843 0.92156863 0.2        0.00392157 0.         0.\n",
            "  0.04705882 0.99607843 0.99215686 0.21960784 0.         0.\n",
            "  0.         0.         0.         0.        ]\n",
            " [0.         0.         0.         0.         0.         0.\n",
            "  0.         0.         0.         0.04705882 0.84705882 0.99607843\n",
            "  0.95686275 0.21568627 0.         0.         0.         0.\n",
            "  0.02352941 0.83529412 0.99607843 0.22352941 0.         0.\n",
            "  0.         0.         0.         0.        ]\n",
            " [0.         0.         0.         0.         0.         0.\n",
            "  0.         0.         0.         0.09803922 0.99607843 0.99607843\n",
            "  0.51764706 0.         0.         0.         0.         0.\n",
            "  0.         0.65882353 0.99607843 0.22352941 0.         0.\n",
            "  0.         0.         0.         0.        ]\n",
            " [0.         0.         0.         0.         0.         0.\n",
            "  0.         0.         0.         0.17647059 0.99607843 0.95294118\n",
            "  0.13333333 0.         0.         0.         0.         0.\n",
            "  0.         0.65882353 0.99607843 0.22352941 0.         0.\n",
            "  0.         0.         0.         0.        ]\n",
            " [0.         0.         0.         0.         0.         0.\n",
            "  0.         0.         0.         0.50196078 0.99607843 0.61568627\n",
            "  0.         0.         0.         0.         0.         0.\n",
            "  0.         0.65882353 0.99607843 0.22352941 0.         0.\n",
            "  0.         0.         0.         0.        ]\n",
            " [0.         0.         0.         0.         0.         0.\n",
            "  0.         0.         0.0745098  0.89411765 0.99607843 0.41176471\n",
            "  0.         0.         0.         0.         0.         0.\n",
            "  0.02745098 0.89411765 0.99607843 0.22352941 0.         0.\n",
            "  0.         0.         0.         0.        ]\n",
            " [0.         0.         0.         0.         0.         0.\n",
            "  0.         0.         0.22745098 0.99607843 0.99607843 0.34117647\n",
            "  0.         0.         0.         0.         0.         0.\n",
            "  0.03921569 0.99607843 0.96470588 0.18431373 0.         0.\n",
            "  0.         0.         0.         0.        ]\n",
            " [0.         0.         0.         0.         0.         0.\n",
            "  0.         0.         0.22745098 0.99607843 0.99607843 0.03529412\n",
            "  0.         0.         0.         0.         0.         0.\n",
            "  0.03921569 0.99607843 0.82352941 0.         0.         0.\n",
            "  0.         0.         0.         0.        ]\n",
            " [0.         0.         0.         0.         0.         0.\n",
            "  0.         0.         0.22745098 0.99607843 0.99607843 0.03529412\n",
            "  0.         0.         0.         0.         0.         0.\n",
            "  0.41176471 0.99607843 0.35686275 0.         0.         0.\n",
            "  0.         0.         0.         0.        ]\n",
            " [0.         0.         0.         0.         0.         0.\n",
            "  0.         0.         0.01960784 0.85882353 0.99607843 0.03529412\n",
            "  0.         0.         0.         0.         0.         0.09411765\n",
            "  0.90196078 0.99607843 0.09411765 0.         0.         0.\n",
            "  0.         0.         0.         0.        ]\n",
            " [0.         0.         0.         0.         0.         0.\n",
            "  0.         0.         0.         0.84705882 0.99607843 0.03529412\n",
            "  0.         0.         0.         0.         0.         0.32941176\n",
            "  0.99607843 0.98431373 0.09019608 0.         0.         0.\n",
            "  0.         0.         0.         0.        ]\n",
            " [0.         0.         0.         0.         0.         0.\n",
            "  0.         0.         0.         0.84705882 0.99607843 0.14117647\n",
            "  0.         0.         0.         0.         0.08627451 0.81568627\n",
            "  0.98431373 0.36862745 0.         0.         0.         0.\n",
            "  0.         0.         0.         0.        ]\n",
            " [0.         0.         0.         0.         0.         0.\n",
            "  0.         0.         0.         0.50588235 0.99607843 0.47058824\n",
            "  0.         0.         0.         0.01176471 0.54901961 0.99607843\n",
            "  0.89803922 0.         0.         0.         0.         0.\n",
            "  0.         0.         0.         0.        ]\n",
            " [0.         0.         0.         0.         0.         0.\n",
            "  0.         0.         0.         0.3254902  0.99607843 0.87058824\n",
            "  0.06666667 0.         0.         0.35686275 0.99607843 0.9254902\n",
            "  0.20784314 0.         0.         0.         0.         0.\n",
            "  0.         0.         0.         0.        ]\n",
            " [0.         0.         0.         0.         0.         0.\n",
            "  0.         0.         0.         0.07058824 0.92156863 0.99607843\n",
            "  0.5254902  0.08235294 0.46666667 0.92941176 0.99607843 0.48627451\n",
            "  0.         0.         0.         0.         0.         0.\n",
            "  0.         0.         0.         0.        ]\n",
            " [0.         0.         0.         0.         0.         0.\n",
            "  0.         0.         0.         0.         0.20784314 0.97647059\n",
            "  0.99607843 0.91764706 0.98823529 0.99607843 0.6745098  0.01176471\n",
            "  0.         0.         0.         0.         0.         0.\n",
            "  0.         0.         0.         0.        ]\n",
            " [0.         0.         0.         0.         0.         0.\n",
            "  0.         0.         0.         0.         0.         0.45490196\n",
            "  0.92941176 0.99607843 0.99607843 0.52156863 0.07843137 0.\n",
            "  0.         0.         0.         0.         0.         0.\n",
            "  0.         0.         0.         0.        ]\n",
            " [0.         0.         0.         0.         0.         0.\n",
            "  0.         0.         0.         0.         0.         0.\n",
            "  0.         0.         0.         0.         0.         0.\n",
            "  0.         0.         0.         0.         0.         0.\n",
            "  0.         0.         0.         0.        ]\n",
            " [0.         0.         0.         0.         0.         0.\n",
            "  0.         0.         0.         0.         0.         0.\n",
            "  0.         0.         0.         0.         0.         0.\n",
            "  0.         0.         0.         0.         0.         0.\n",
            "  0.         0.         0.         0.        ]\n",
            " [0.         0.         0.         0.         0.         0.\n",
            "  0.         0.         0.         0.         0.         0.\n",
            "  0.         0.         0.         0.         0.         0.\n",
            "  0.         0.         0.         0.         0.         0.\n",
            "  0.         0.         0.         0.        ]]\n"
          ],
          "name": "stdout"
        }
      ]
    },
    {
      "cell_type": "code",
      "metadata": {
        "colab": {
          "base_uri": "https://localhost:8080/"
        },
        "id": "rSrtfCQ1u6CL",
        "outputId": "5aaa6ac9-5b03-41fc-8ed4-50318980a76d"
      },
      "source": [
        "y_train"
      ],
      "execution_count": null,
      "outputs": [
        {
          "output_type": "execute_result",
          "data": {
            "text/plain": [
              "array([5, 0, 4, ..., 5, 6, 8], dtype=uint8)"
            ]
          },
          "metadata": {
            "tags": []
          },
          "execution_count": 16
        }
      ]
    },
    {
      "cell_type": "code",
      "metadata": {
        "id": "n2D0IxlkuC3k"
      },
      "source": [
        "#2.2 Preprocessing the labels (One hot encoding)\n",
        "y_train_proc = tf.keras.utils.to_categorical(y_train)"
      ],
      "execution_count": null,
      "outputs": []
    },
    {
      "cell_type": "code",
      "metadata": {
        "colab": {
          "base_uri": "https://localhost:8080/"
        },
        "id": "czmw3HgWuDCc",
        "outputId": "027de8e1-e21c-484d-a288-e5140f071e72"
      },
      "source": [
        "y_train_proc[1]"
      ],
      "execution_count": null,
      "outputs": [
        {
          "output_type": "execute_result",
          "data": {
            "text/plain": [
              "array([1., 0., 0., 0., 0., 0., 0., 0., 0., 0.], dtype=float32)"
            ]
          },
          "metadata": {
            "tags": []
          },
          "execution_count": 18
        }
      ]
    },
    {
      "cell_type": "code",
      "metadata": {
        "colab": {
          "base_uri": "https://localhost:8080/"
        },
        "id": "7WEXE7p3uDFy",
        "outputId": "77012716-759e-4d64-fef8-90f76eaf8199"
      },
      "source": [
        "y_train_proc[0]"
      ],
      "execution_count": null,
      "outputs": [
        {
          "output_type": "execute_result",
          "data": {
            "text/plain": [
              "array([0., 0., 0., 0., 0., 1., 0., 0., 0., 0.], dtype=float32)"
            ]
          },
          "metadata": {
            "tags": []
          },
          "execution_count": 19
        }
      ]
    },
    {
      "cell_type": "code",
      "metadata": {
        "id": "vAGZwIP5Sp19"
      },
      "source": [
        "#Validation cut\n",
        "#X_train, y_train_proc - to get 10% of data\n"
      ],
      "execution_count": null,
      "outputs": []
    },
    {
      "cell_type": "code",
      "metadata": {
        "colab": {
          "base_uri": "https://localhost:8080/"
        },
        "id": "_uQtmv9AUfc-",
        "outputId": "0aea3e67-79e8-43d7-ed93-2aa219801f49"
      },
      "source": [
        "x_train.shape, y_train_proc.shape"
      ],
      "execution_count": null,
      "outputs": [
        {
          "output_type": "execute_result",
          "data": {
            "text/plain": [
              "((60000, 28, 28), (60000, 10))"
            ]
          },
          "metadata": {
            "tags": []
          },
          "execution_count": 21
        }
      ]
    },
    {
      "cell_type": "code",
      "metadata": {
        "id": "e-VCyOPiSqCL"
      },
      "source": [
        "from sklearn.model_selection import train_test_split\n",
        "x_train, x_val, y_train, y_val = train_test_split(x_train, y_train_proc, test_size=0.1)"
      ],
      "execution_count": null,
      "outputs": []
    },
    {
      "cell_type": "code",
      "metadata": {
        "colab": {
          "base_uri": "https://localhost:8080/"
        },
        "id": "fKbk287JUrMf",
        "outputId": "d9c534fc-be75-403a-a0a3-1c54da5243dc"
      },
      "source": [
        "x_train.shape, y_train_proc.shape, x_val.shape, y_val.shape   # - Validation dataset"
      ],
      "execution_count": null,
      "outputs": [
        {
          "output_type": "execute_result",
          "data": {
            "text/plain": [
              "((54000, 28, 28), (60000, 10), (6000, 28, 28), (6000, 10))"
            ]
          },
          "metadata": {
            "tags": []
          },
          "execution_count": 23
        }
      ]
    },
    {
      "cell_type": "code",
      "metadata": {
        "id": "21zGmlt0uDJD"
      },
      "source": [
        "#Make the model\n",
        "#1. Create a sequential model\n",
        "model = tf.keras.models.Sequential()\n",
        "\n",
        "# Add flatten layer with input shape\n",
        "model.add(tf.keras.layers.Flatten(input_shape=(28,28)))\n",
        "# In the first layer always try to pass the input_shape of image(also input_shape should be only pass in first layer)\n",
        "\n",
        "# Add a Dense layer with 512 units\n",
        "model.add(tf.keras.layers.Dense(1028,tf.keras.activations.relu))\n",
        "# We do an activation after the layer (ReLu)\n",
        "model.add(tf.keras.layers.Dense(728,tf.keras.activations.relu))\n",
        "model.add(tf.keras.layers.Dense(512,tf.keras.activations.relu))\n",
        "\n",
        "# Final layer with 10 neurons and softmax as a activation\n",
        "model.add(tf.keras.layers.Dense(10,tf.keras.activations.softmax))\n",
        "# Softmax is special activation used in last layer of classification problem\n"
      ],
      "execution_count": null,
      "outputs": []
    },
    {
      "cell_type": "code",
      "metadata": {
        "colab": {
          "base_uri": "https://localhost:8080/"
        },
        "id": "atNXxBzyuDL3",
        "outputId": "2408b064-980a-445d-c852-5efdeefae4fe"
      },
      "source": [
        "model.summary()"
      ],
      "execution_count": null,
      "outputs": [
        {
          "output_type": "stream",
          "text": [
            "Model: \"sequential\"\n",
            "_________________________________________________________________\n",
            "Layer (type)                 Output Shape              Param #   \n",
            "=================================================================\n",
            "flatten (Flatten)            (None, 784)               0         \n",
            "_________________________________________________________________\n",
            "dense (Dense)                (None, 1028)              806980    \n",
            "_________________________________________________________________\n",
            "dense_1 (Dense)              (None, 728)               749112    \n",
            "_________________________________________________________________\n",
            "dense_2 (Dense)              (None, 512)               373248    \n",
            "_________________________________________________________________\n",
            "dense_3 (Dense)              (None, 10)                5130      \n",
            "=================================================================\n",
            "Total params: 1,934,470\n",
            "Trainable params: 1,934,470\n",
            "Non-trainable params: 0\n",
            "_________________________________________________________________\n"
          ],
          "name": "stdout"
        }
      ]
    },
    {
      "cell_type": "code",
      "metadata": {
        "id": "CvmoR-j3mq3F"
      },
      "source": [
        "model.compile(optimizer=tf.keras.optimizers.SGD(),loss=tf.keras.losses.categorical_crossentropy,metrics=['acc'])"
      ],
      "execution_count": null,
      "outputs": []
    },
    {
      "cell_type": "code",
      "metadata": {
        "colab": {
          "base_uri": "https://localhost:8080/"
        },
        "id": "6S9R2ga5mq5X",
        "outputId": "a80f9779-8d2b-48de-f97e-45eae18473b2"
      },
      "source": [
        "model.fit(x_train, y_train, epochs=15, validation_data=(x_val,y_val))"
      ],
      "execution_count": null,
      "outputs": [
        {
          "output_type": "stream",
          "text": [
            "Epoch 1/15\n",
            "1688/1688 [==============================] - 8s 3ms/step - loss: nan - acc: 0.0988 - val_loss: nan - val_acc: 0.1030\n",
            "Epoch 2/15\n",
            "1688/1688 [==============================] - 5s 3ms/step - loss: nan - acc: 0.0986 - val_loss: nan - val_acc: 0.1030\n",
            "Epoch 3/15\n",
            "1688/1688 [==============================] - 4s 3ms/step - loss: nan - acc: 0.0979 - val_loss: nan - val_acc: 0.1030\n",
            "Epoch 4/15\n",
            "1688/1688 [==============================] - 5s 3ms/step - loss: nan - acc: 0.0962 - val_loss: nan - val_acc: 0.1030\n",
            "Epoch 5/15\n",
            "1688/1688 [==============================] - 5s 3ms/step - loss: nan - acc: 0.0999 - val_loss: nan - val_acc: 0.1030\n",
            "Epoch 6/15\n",
            "1688/1688 [==============================] - 5s 3ms/step - loss: nan - acc: 0.0976 - val_loss: nan - val_acc: 0.1030\n",
            "Epoch 7/15\n",
            "1688/1688 [==============================] - 4s 3ms/step - loss: nan - acc: 0.0991 - val_loss: nan - val_acc: 0.1030\n",
            "Epoch 8/15\n",
            "1688/1688 [==============================] - 5s 3ms/step - loss: nan - acc: 0.0983 - val_loss: nan - val_acc: 0.1030\n",
            "Epoch 9/15\n",
            "1688/1688 [==============================] - 5s 3ms/step - loss: nan - acc: 0.1000 - val_loss: nan - val_acc: 0.1030\n",
            "Epoch 10/15\n",
            "1688/1688 [==============================] - 5s 3ms/step - loss: nan - acc: 0.0970 - val_loss: nan - val_acc: 0.1030\n",
            "Epoch 11/15\n",
            "1688/1688 [==============================] - 5s 3ms/step - loss: nan - acc: 0.0991 - val_loss: nan - val_acc: 0.1030\n",
            "Epoch 12/15\n",
            "1688/1688 [==============================] - 4s 3ms/step - loss: nan - acc: 0.0992 - val_loss: nan - val_acc: 0.1030\n",
            "Epoch 13/15\n",
            "1688/1688 [==============================] - 5s 3ms/step - loss: nan - acc: 0.0960 - val_loss: nan - val_acc: 0.1030\n",
            "Epoch 14/15\n",
            "1688/1688 [==============================] - 4s 3ms/step - loss: nan - acc: 0.0981 - val_loss: nan - val_acc: 0.1030\n",
            "Epoch 15/15\n",
            "1688/1688 [==============================] - 5s 3ms/step - loss: nan - acc: 0.0964 - val_loss: nan - val_acc: 0.1030\n"
          ],
          "name": "stdout"
        },
        {
          "output_type": "execute_result",
          "data": {
            "text/plain": [
              "<tensorflow.python.keras.callbacks.History at 0x7f40e037df90>"
            ]
          },
          "metadata": {
            "tags": []
          },
          "execution_count": 27
        }
      ]
    },
    {
      "cell_type": "code",
      "metadata": {
        "colab": {
          "base_uri": "https://localhost:8080/",
          "height": 282
        },
        "id": "ZnroSprNmq8H",
        "outputId": "cb669e06-0b1a-4840-828e-c016a70397f2"
      },
      "source": [
        "plt.imshow(x_test[300])"
      ],
      "execution_count": null,
      "outputs": [
        {
          "output_type": "execute_result",
          "data": {
            "text/plain": [
              "<matplotlib.image.AxesImage at 0x7f40a80fc390>"
            ]
          },
          "metadata": {
            "tags": []
          },
          "execution_count": 28
        },
        {
          "output_type": "display_data",
          "data": {
            "image/png": "[encoded data removed]",
            "text/plain": [
              "<Figure size 432x288 with 1 Axes>"
            ]
          },
          "metadata": {
            "tags": [],
            "needs_background": "light"
          }
        }
      ]
    },
    {
      "cell_type": "code",
      "metadata": {
        "colab": {
          "base_uri": "https://localhost:8080/"
        },
        "id": "DvNQZlfpmq_N",
        "outputId": "fafba052-ac2d-4478-f2a1-4471f7c34c98"
      },
      "source": [
        "import numpy as np\n",
        "model.input_shape    # None - no of images, 28 is the height and width of image"
      ],
      "execution_count": null,
      "outputs": [
        {
          "output_type": "execute_result",
          "data": {
            "text/plain": [
              "(None, 28, 28)"
            ]
          },
          "metadata": {
            "tags": []
          },
          "execution_count": 29
        }
      ]
    },
    {
      "cell_type": "code",
      "metadata": {
        "id": "owNkqB3RmrCX"
      },
      "source": [
        "img = x_test[400]\n",
        "img = img/255"
      ],
      "execution_count": null,
      "outputs": []
    },
    {
      "cell_type": "code",
      "metadata": {
        "colab": {
          "base_uri": "https://localhost:8080/"
        },
        "id": "wHBg_mqJmrFp",
        "outputId": "3461be11-f716-4b9e-a4ed-74187394a534"
      },
      "source": [
        "img.shape"
      ],
      "execution_count": null,
      "outputs": [
        {
          "output_type": "execute_result",
          "data": {
            "text/plain": [
              "(28, 28)"
            ]
          },
          "metadata": {
            "tags": []
          },
          "execution_count": 31
        }
      ]
    },
    {
      "cell_type": "code",
      "metadata": {
        "id": "R1gCfhPHiRqv"
      },
      "source": [
        "img = np.expand_dims(img,axis=0)"
      ],
      "execution_count": null,
      "outputs": []
    },
    {
      "cell_type": "code",
      "metadata": {
        "id": "vl372xIgiRtl"
      },
      "source": [
        "res= model.predict(img)"
      ],
      "execution_count": null,
      "outputs": []
    },
    {
      "cell_type": "code",
      "metadata": {
        "colab": {
          "base_uri": "https://localhost:8080/"
        },
        "id": "8arpBMaHiRw_",
        "outputId": "b9a3b2ec-a375-4565-8a11-52d56ca014db"
      },
      "source": [
        "res"
      ],
      "execution_count": null,
      "outputs": [
        {
          "output_type": "execute_result",
          "data": {
            "text/plain": [
              "array([[nan, nan, nan, nan, nan, nan, nan, nan, nan, nan]], dtype=float32)"
            ]
          },
          "metadata": {
            "tags": []
          },
          "execution_count": 34
        }
      ]
    },
    {
      "cell_type": "code",
      "metadata": {
        "colab": {
          "base_uri": "https://localhost:8080/"
        },
        "id": "mFM4O-AeiR0m",
        "outputId": "d19a20cc-8acf-488b-e135-b4567b5099c0"
      },
      "source": [
        "[round(i,2) for i in res[0]]"
      ],
      "execution_count": null,
      "outputs": [
        {
          "output_type": "execute_result",
          "data": {
            "text/plain": [
              "[nan, nan, nan, nan, nan, nan, nan, nan, nan, nan]"
            ]
          },
          "metadata": {
            "tags": []
          },
          "execution_count": 35
        }
      ]
    },
    {
      "cell_type": "code",
      "metadata": {
        "id": "GZWrh9OmiR3_",
        "colab": {
          "base_uri": "https://localhost:8080/"
        },
        "outputId": "fd61a7b0-85bf-4876-8374-1f9a894a7d32"
      },
      "source": [
        "x_test.shape"
      ],
      "execution_count": null,
      "outputs": [
        {
          "output_type": "execute_result",
          "data": {
            "text/plain": [
              "(10000, 28, 28)"
            ]
          },
          "metadata": {
            "tags": []
          },
          "execution_count": 36
        }
      ]
    },
    {
      "cell_type": "code",
      "metadata": {
        "id": "tVo5NP6Mj_ub"
      },
      "source": [
        "y_test_pred = model.predict(x_test)"
      ],
      "execution_count": null,
      "outputs": []
    },
    {
      "cell_type": "code",
      "metadata": {
        "colab": {
          "base_uri": "https://localhost:8080/"
        },
        "id": "LIv3ObK9j_xt",
        "outputId": "c53eae41-134e-4435-b24d-2241b16eedf1"
      },
      "source": [
        "# y predict for 10000 images and for each image you have 10 probabilities,\n",
        "y_test_pred.shape"
      ],
      "execution_count": null,
      "outputs": [
        {
          "output_type": "execute_result",
          "data": {
            "text/plain": [
              "(10000, 10)"
            ]
          },
          "metadata": {
            "tags": []
          },
          "execution_count": 39
        }
      ]
    },
    {
      "cell_type": "code",
      "metadata": {
        "id": "ag-xsofhj_1L"
      },
      "source": [
        "#we took the argmax to know the value for each image\n",
        "y_test_pred_num = np.argmax(y_test_pred, axis=1)"
      ],
      "execution_count": null,
      "outputs": []
    },
    {
      "cell_type": "code",
      "metadata": {
        "colab": {
          "base_uri": "https://localhost:8080/"
        },
        "id": "CmtgFlrkj_3v",
        "outputId": "e3e29ea7-f3f6-4d9f-e5b7-abd4e58df7dd"
      },
      "source": [
        "#compare this above answer with actual answer in y_test\n",
        "\n",
        "(y_test_pred_num == y_test).sum()"
      ],
      "execution_count": null,
      "outputs": [
        {
          "output_type": "execute_result",
          "data": {
            "text/plain": [
              "980"
            ]
          },
          "metadata": {
            "tags": []
          },
          "execution_count": 41
        }
      ]
    },
    {
      "cell_type": "code",
      "metadata": {
        "id": "2rLKgS8Ej_6k"
      },
      "source": [
        "wrong_predicted = np.where(y_test_pred_num != y_test)"
      ],
      "execution_count": null,
      "outputs": []
    },
    {
      "cell_type": "code",
      "metadata": {
        "colab": {
          "base_uri": "https://localhost:8080/"
        },
        "id": "6tIRPlI2j_9T",
        "outputId": "da979785-21a9-4e22-f1f2-5dff7ea69968"
      },
      "source": [
        "wrong_predicted"
      ],
      "execution_count": null,
      "outputs": [
        {
          "output_type": "execute_result",
          "data": {
            "text/plain": [
              "(array([   0,    1,    2, ..., 9997, 9998, 9999]),)"
            ]
          },
          "metadata": {
            "tags": []
          },
          "execution_count": 43
        }
      ]
    },
    {
      "cell_type": "code",
      "metadata": {
        "colab": {
          "base_uri": "https://localhost:8080/"
        },
        "id": "C5prAudIyamG",
        "outputId": "9170b040-f5d2-4308-a18b-5a28d564d518"
      },
      "source": [
        "wrong_predicted[0].shape"
      ],
      "execution_count": null,
      "outputs": [
        {
          "output_type": "execute_result",
          "data": {
            "text/plain": [
              "(9020,)"
            ]
          },
          "metadata": {
            "tags": []
          },
          "execution_count": 44
        }
      ]
    },
    {
      "cell_type": "code",
      "metadata": {
        "colab": {
          "base_uri": "https://localhost:8080/",
          "height": 282
        },
        "id": "_tQqES53yaox",
        "outputId": "83e5ef7c-1ab8-45d5-d605-4b59d24a1397"
      },
      "source": [
        "num= 8\n",
        "plt.imshow(x_test[num])\n",
        "print(f\"Actual={y_test[num]} and model predicted {y_test_pred_num[num]}\")"
      ],
      "execution_count": null,
      "outputs": [
        {
          "output_type": "stream",
          "text": [
            "Actual=5 and model predicted 0\n"
          ],
          "name": "stdout"
        },
        {
          "output_type": "display_data",
          "data": {
            "image/png": "[encoded data removed]",
            "text/plain": [
              "<Figure size 432x288 with 1 Axes>"
            ]
          },
          "metadata": {
            "tags": [],
            "needs_background": "light"
          }
        }
      ]
    },
    {
      "cell_type": "code",
      "metadata": {
        "colab": {
          "base_uri": "https://localhost:8080/"
        },
        "id": "VPc06JOKyast",
        "outputId": "ed144a90-1667-494e-c52a-d5503f2f83b3"
      },
      "source": [
        "{index:round(i,3) for index, i in enumerate(y_test_pred[num])}"
      ],
      "execution_count": null,
      "outputs": [
        {
          "output_type": "execute_result",
          "data": {
            "text/plain": [
              "{0: nan,\n",
              " 1: nan,\n",
              " 2: nan,\n",
              " 3: nan,\n",
              " 4: nan,\n",
              " 5: nan,\n",
              " 6: nan,\n",
              " 7: nan,\n",
              " 8: nan,\n",
              " 9: nan}"
            ]
          },
          "metadata": {
            "tags": []
          },
          "execution_count": 46
        }
      ]
    },
    {
      "cell_type": "code",
      "metadata": {
        "id": "y-oaic7AyavC"
      },
      "source": [
        ""
      ],
      "execution_count": null,
      "outputs": []
    }
  ]
}